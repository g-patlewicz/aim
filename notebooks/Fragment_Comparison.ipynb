{
 "cells": [
  {
   "cell_type": "code",
   "execution_count": 1,
   "metadata": {},
   "outputs": [],
   "source": [
    "import numpy as np\n",
    "import pandas as pd\n",
    "import matplotlib.pyplot as plt\n",
    "import seaborn as sns\n",
    "%matplotlib inline\n",
    "import os\n",
    "import glob\n",
    "import openpyxl"
   ]
  },
  {
   "cell_type": "code",
   "execution_count": 2,
   "metadata": {},
   "outputs": [],
   "source": [
    "TOP = os.getcwd().replace('notebooks', '')\n",
    "raw_dir = TOP + 'data/raw/'\n",
    "interim_dir = TOP + 'data/interim/'\n",
    "external_dir = TOP + 'data/external/'\n",
    "figures_dir = TOP + 'reports/figures/'\n"
   ]
  },
  {
   "cell_type": "code",
   "execution_count": 3,
   "metadata": {},
   "outputs": [],
   "source": [
    "df = pd.read_csv(raw_dir+'aimdb.tsv', sep='\\t', names=['SMILES','CASRN','MW','Other','AIM Fragments'])\n",
    "df['AIM_list'] = df['AIM Fragments'].apply(lambda x: x.split(','))\n",
    "df = df[['SMILES','AIM_list']].drop_duplicates(subset=['SMILES'])"
   ]
  },
  {
   "cell_type": "code",
   "execution_count": 4,
   "metadata": {},
   "outputs": [
    {
     "name": "stdout",
     "output_type": "stream",
     "text": [
      "Number of unique fragments found in AIM Database: 767\n"
     ]
    }
   ],
   "source": [
    "db_list = []\n",
    "for row in df['AIM_list']:\n",
    "    for i in row:\n",
    "        db_list.append(i)\n",
    "        \n",
    "db_uniques = len(set(db_list))\n",
    "\n",
    "print(f\"Number of unique fragments found in AIM Database: {db_uniques}\")"
   ]
  },
  {
   "cell_type": "code",
   "execution_count": 5,
   "metadata": {},
   "outputs": [],
   "source": [
    "df_appendix = pd.read_excel(raw_dir+'AppendixA_Jun_09_2022.xlsx')"
   ]
  },
  {
   "cell_type": "code",
   "execution_count": 6,
   "metadata": {},
   "outputs": [
    {
     "name": "stdout",
     "output_type": "stream",
     "text": [
      "Number of fragment IDS found in AIM Appendix: 831\n"
     ]
    }
   ],
   "source": [
    "print(f\"Number of fragment IDS found in AIM Appendix: {len(df_appendix)}\")"
   ]
  },
  {
   "cell_type": "code",
   "execution_count": 7,
   "metadata": {},
   "outputs": [
    {
     "name": "stdout",
     "output_type": "stream",
     "text": [
      "Number of UNIQUE Fragments found in AIM Appendix: 782\n"
     ]
    }
   ],
   "source": [
    "app_names_list = list(set(df_appendix['Fragment'].values.tolist()))\n",
    "app_names_list  = [str(x) for x in app_names_list ]\n",
    "app_names_list = [x for x in app_names_list  if x != 'nan']\n",
    "\n",
    "print(f\"Number of UNIQUE Fragments found in AIM Appendix: {len(app_names_list)}\")"
   ]
  },
  {
   "cell_type": "code",
   "execution_count": 8,
   "metadata": {},
   "outputs": [],
   "source": [
    "df_csrml_fp = pd.read_csv(raw_dir+'AIM_V1_newest_names.tsv',sep='\\t')\n",
    "AIM_FP = df_csrml_fp.set_index('M_NAME')"
   ]
  },
  {
   "cell_type": "code",
   "execution_count": 9,
   "metadata": {},
   "outputs": [
    {
     "name": "stdout",
     "output_type": "stream",
     "text": [
      "Number of SUBGRAPHS found in AIM CSRML: 903\n"
     ]
    }
   ],
   "source": [
    "n_subgraphs = df_csrml_fp.shape[1]\n",
    "print(f\"Number of SUBGRAPHS found in AIM CSRML: {n_subgraphs}\")"
   ]
  },
  {
   "cell_type": "code",
   "execution_count": 10,
   "metadata": {},
   "outputs": [
    {
     "name": "stdout",
     "output_type": "stream",
     "text": [
      "(80, 902)\n",
      "118 columns to be removed\n",
      "118 columns removed\n",
      "(80, 784)\n",
      "Unique(?) Fragments in CSRML: 784\n"
     ]
    }
   ],
   "source": [
    "from collections import Counter\n",
    "import re\n",
    "print(AIM_FP.shape)\n",
    "\n",
    "col_names = []\n",
    "for i in AIM_FP.columns:\n",
    "    col_names.append(i.split('.')[0])    \n",
    "\n",
    "# Could add a condition to check that split[1] is a number, if not then check \n",
    "\n",
    "mylist = Counter(col_names)\n",
    "duplicate_list= {key: value for key, value in mylist.items() if value > 1}\n",
    "\n",
    "len_dict = len(duplicate_list)\n",
    "sum_dict = sum(duplicate_list.values())\n",
    "print(f'{sum_dict-len_dict} columns to be removed')\n",
    "\n",
    "cols = []\n",
    "for i in AIM_FP.columns:\n",
    "    if i.split('.')[0] in duplicate_list.keys():\n",
    "        cols.append(i)\n",
    "        \n",
    "df_dupes =AIM_FP[cols].copy()\n",
    "for i,col in enumerate(df_dupes):\n",
    "    col_1 = df_dupes.iloc[:,i].name.split('.')[0]\n",
    "    # Match columns which are duplicates (e.g. Mercury [Measured] and Mercury [Measured].1 ) by name\n",
    "    for j, col2 in enumerate(df_dupes):\n",
    "        col_2 = df_dupes.iloc[:,j].name.split('.')[0]\n",
    "            # If match, then column values will be updated to maximum value across the two columns for each row\n",
    "        if col_1 == col_2:\n",
    "            df_dupes[col] = df_dupes[[col,col2]].max(axis=1)\n",
    "    \n",
    "       \n",
    "n_before = AIM_FP.shape[1]\n",
    "for col in df_dupes:\n",
    "    # Remove duplicate columns which are not the first (indicated by ending in  .[1-9])\n",
    "    if re.search('\\.[1-9]$',col) is not None:\n",
    "        AIM_FP = AIM_FP.drop(columns=[col])\n",
    "    else:\n",
    "        AIM_FP[col] = df_dupes[col]\n",
    "    \n",
    "    \n",
    "\n",
    "n_after = AIM_FP.shape[1]\n",
    "\n",
    "print(f'{n_before-n_after} columns removed')\n",
    "\n",
    "\n",
    "AIM_FP = AIM_FP.dropna(axis=1)\n",
    "print(AIM_FP.shape)\n",
    "print(\"Unique(?) Fragments in CSRML:\", AIM_FP.shape[1])"
   ]
  },
  {
   "cell_type": "code",
   "execution_count": 11,
   "metadata": {},
   "outputs": [],
   "source": [
    "CSRML_unique= AIM_FP.columns.to_list()"
   ]
  },
  {
   "cell_type": "markdown",
   "metadata": {},
   "source": []
  },
  {
   "cell_type": "code",
   "execution_count": 12,
   "metadata": {},
   "outputs": [],
   "source": [
    "df_csrml_fp2 = pd.read_csv(raw_dir+'AIM_V1_newest_names.tsv',sep='\\t')\n",
    "AIM_FP_full = df_csrml_fp2.set_index('M_NAME')\n",
    "CSRML_names = AIM_FP_full.columns.tolist()"
   ]
  },
  {
   "cell_type": "code",
   "execution_count": 13,
   "metadata": {},
   "outputs": [],
   "source": [
    "df_csrml_fp_id = pd.read_csv(raw_dir+'AIM_V1_newest_IDS.tsv',sep='\\t').set_index('M_NAME')"
   ]
  },
  {
   "cell_type": "code",
   "execution_count": 14,
   "metadata": {},
   "outputs": [],
   "source": [
    "CSRML_IDS = df_csrml_fp_id.columns.tolist()"
   ]
  },
  {
   "cell_type": "code",
   "execution_count": 15,
   "metadata": {},
   "outputs": [],
   "source": [
    "CSRML_aim_dict = dict(zip(CSRML_IDS,CSRML_names))\n"
   ]
  },
  {
   "cell_type": "code",
   "execution_count": 16,
   "metadata": {},
   "outputs": [],
   "source": [
    "unique_CSRML_ids = []\n",
    "for i in CSRML_unique:\n",
    "    for key,value in CSRML_aim_dict.items():\n",
    "        if i == value:\n",
    "            unique_CSRML_ids.append(key)"
   ]
  },
  {
   "cell_type": "code",
   "execution_count": 17,
   "metadata": {},
   "outputs": [],
   "source": [
    "df_appendix = pd.read_excel(raw_dir+'AppendixA_Jun_09_2022.xlsx')"
   ]
  },
  {
   "cell_type": "code",
   "execution_count": 18,
   "metadata": {},
   "outputs": [],
   "source": [
    "Appendix_Fragment_names = df_appendix['Fragment'].tolist()\n",
    "Appendix_Fragment_IDS  = df_appendix['Number'].tolist()\n",
    "Appendix_aim_dict = dict(zip(Appendix_Fragment_IDS,Appendix_Fragment_names))\n"
   ]
  },
  {
   "cell_type": "code",
   "execution_count": 19,
   "metadata": {},
   "outputs": [],
   "source": [
    "app_names_list = list(set(df_appendix['Fragment'].values.tolist()))\n",
    "app_names_list  = [str(x) for x in app_names_list ]\n",
    "Appendix_unique = [x for x in app_names_list  if x != 'nan']\n"
   ]
  },
  {
   "cell_type": "code",
   "execution_count": 20,
   "metadata": {},
   "outputs": [],
   "source": [
    "unique_Appendix_ids = []\n",
    "for i in Appendix_unique:\n",
    "    for key,value in Appendix_aim_dict.items():\n",
    "        if i == value:\n",
    "            unique_Appendix_ids.append(key)\n",
    "            break"
   ]
  },
  {
   "cell_type": "code",
   "execution_count": 21,
   "metadata": {},
   "outputs": [],
   "source": [
    "len(unique_Appendix_ids)\n",
    "unique_Appendix_ids = [str(item) for item in unique_Appendix_ids]"
   ]
  },
  {
   "cell_type": "code",
   "execution_count": 22,
   "metadata": {},
   "outputs": [],
   "source": [
    "A = [item for item in unique_CSRML_ids if item not in unique_Appendix_ids] \n",
    "B =  [item for item in unique_Appendix_ids if item not in unique_CSRML_ids] "
   ]
  },
  {
   "cell_type": "code",
   "execution_count": 23,
   "metadata": {},
   "outputs": [
    {
     "data": {
      "text/plain": [
       "['93E', '97E', '98E', '99E', '96C_a', '73X']"
      ]
     },
     "execution_count": 23,
     "metadata": {},
     "output_type": "execute_result"
    }
   ],
   "source": [
    "A\n"
   ]
  },
  {
   "cell_type": "code",
   "execution_count": 24,
   "metadata": {},
   "outputs": [
    {
     "data": {
      "text/plain": [
       "['425C', '359C', '96C', '360C']"
      ]
     },
     "execution_count": 24,
     "metadata": {},
     "output_type": "execute_result"
    }
   ],
   "source": [
    "B"
   ]
  },
  {
   "cell_type": "markdown",
   "metadata": {},
   "source": [
    "73X, 93E are the exclusive to A\n",
    "\n",
    "- 97E = 425C\n",
    "- 98E = 359C \n",
    "- 99E = 360C\n",
    "- 96C_a = 96C"
   ]
  },
  {
   "cell_type": "code",
   "execution_count": 25,
   "metadata": {},
   "outputs": [
    {
     "data": {
      "text/plain": [
       "19"
      ]
     },
     "execution_count": 25,
     "metadata": {},
     "output_type": "execute_result"
    }
   ],
   "source": [
    "selection = ['73X']\n",
    "filter_ = df['AIM_list'].apply(lambda x: any(item for item in selection if item in x))\n",
    "\n",
    "len(df[filter_])"
   ]
  },
  {
   "cell_type": "code",
   "execution_count": 26,
   "metadata": {},
   "outputs": [
    {
     "data": {
      "text/plain": [
       "1"
      ]
     },
     "execution_count": 26,
     "metadata": {},
     "output_type": "execute_result"
    }
   ],
   "source": [
    "selection = ['93E']\n",
    "filter_ = df['AIM_list'].apply(lambda x: any(item for item in selection if item in x))\n",
    "\n",
    "len(df[filter_])"
   ]
  },
  {
   "cell_type": "code",
   "execution_count": null,
   "metadata": {},
   "outputs": [],
   "source": []
  }
 ],
 "metadata": {
  "kernelspec": {
   "display_name": "aim",
   "language": "python",
   "name": "aim"
  },
  "language_info": {
   "codemirror_mode": {
    "name": "ipython",
    "version": 3
   },
   "file_extension": ".py",
   "mimetype": "text/x-python",
   "name": "python",
   "nbconvert_exporter": "python",
   "pygments_lexer": "ipython3",
   "version": "3.8.13"
  }
 },
 "nbformat": 4,
 "nbformat_minor": 5
}
