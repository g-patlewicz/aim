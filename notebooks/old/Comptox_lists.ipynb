{
  "nbformat": 4,
  "nbformat_minor": 0,
  "metadata": {
    "colab": {
      "name": "Comptox_lists.ipynb",
      "provenance": [],
      "collapsed_sections": [],
      "authorship_tag": "ABX9TyP+D6ilKUhUorm2M8eAqsky",
      "include_colab_link": true
    },
    "kernelspec": {
      "name": "python3",
      "display_name": "Python 3"
    },
    "language_info": {
      "name": "python"
    }
  },
  "cells": [
    {
      "cell_type": "markdown",
      "metadata": {
        "id": "view-in-github",
        "colab_type": "text"
      },
      "source": [
        "<a href=\"https://colab.research.google.com/github/patlewig/aim/blob/master/notebooks/Comptox_lists.ipynb\" target=\"_parent\"><img src=\"https://colab.research.google.com/assets/colab-badge.svg\" alt=\"Open In Colab\"/></a>"
      ]
    },
    {
      "cell_type": "code",
      "execution_count": null,
      "metadata": {
        "id": "7ANDOYBF--Bk",
        "colab": {
          "base_uri": "https://localhost:8080/"
        },
        "outputId": "84ee01d7-ccac-443a-ef2c-4b58327726ee"
      },
      "outputs": [
        {
          "output_type": "stream",
          "name": "stderr",
          "text": [
            "/usr/local/lib/python3.7/dist-packages/ipykernel_launcher.py:10: SettingWithCopyWarning: \n",
            "A value is trying to be set on a copy of a slice from a DataFrame.\n",
            "Try using .loc[row_indexer,col_indexer] = value instead\n",
            "\n",
            "See the caveats in the documentation: https://pandas.pydata.org/pandas-docs/stable/user_guide/indexing.html#returning-a-view-versus-a-copy\n",
            "  # Remove the CWD from sys.path while we load stuff.\n"
          ]
        }
      ],
      "source": [
        "import pandas as pd\n",
        "import glob\n",
        "\n",
        "a_dict = {}\n",
        "for file in glob.glob('*.csv'):\n",
        "  df = pd.read_csv(file)\n",
        "  df['DTXSID'] = df['DTXSID'].map(lambda x: x.lstrip('https://comptox.epa.gov/dashboard/chemical/details/'))\n",
        "  df = df[[\"DTXSID\", \"CASRN\", \"SMILES\", \"INCHIKEY\"]]\n",
        "  file_short = file.split('-')[0]\n",
        "  df[file_short] = 1\n",
        "  a_dict[f\"df_{file_short}\"] = df\n",
        "\n",
        "\n",
        "\n",
        "for i, (key,value) in enumerate(a_dict.items()):\n",
        "  if i == 0:\n",
        "    df1, df2 = [list(a_dict.values())[i], list(a_dict.values())[i+1]]\n",
        "    df1 = pd.merge(df1, df2, on=['DTXSID', 'INCHIKEY', 'SMILES', 'CASRN'],how='outer')\n",
        "  elif i < (len(a_dict) - 1):\n",
        "    df2 = list(a_dict.values())[i+1]\n",
        "    df1 = pd.merge(df1, df2, on=['DTXSID', 'INCHIKEY', 'SMILES', 'CASRN'],how='outer')\n",
        "\n",
        "\n",
        "\n",
        "df1['TAG_list'] = df1.apply(lambda x: x.index[x == 1].tolist(), axis=1)\n",
        "df1 = df1[[\"DTXSID\", \"CASRN\", \"SMILES\", \"INCHIKEY\", \"TAG_list\"]]\n",
        "df1.to_csv('CompTox_SUPERSET.csv')\n",
        "\n"
      ]
    },
    {
      "cell_type": "code",
      "source": [
        "## SMI File -> we will need this to get our fingerprints file\n",
        "df_smiles = df1[['SMILES','DTXSID']].dropna()\n",
        "\n",
        "df_smiles.to_csv('Comptox_SUPERSET.smi', sep=\"\\t\", index=False, header=False)\n",
        "\n"
      ],
      "metadata": {
        "id": "oNxBLJhN-t54"
      },
      "execution_count": null,
      "outputs": []
    }
  ]
}